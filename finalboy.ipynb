{
 "cells": [
  {
   "cell_type": "code",
   "execution_count": 2,
   "id": "77b7e643-866c-4094-adb4-50be5816cade",
   "metadata": {},
   "outputs": [],
   "source": [
    "import numpy as np\n",
    "import matplotlib.pyplot as py"
   ]
  },
  {
   "cell_type": "markdown",
   "id": "3d216351-cb8f-42d3-bc6e-d71574c5b1e5",
   "metadata": {},
   "source": [
    "constants are defined below\n",
    "\n",
    "The spiral b constant is related to the other parameters with this equation.\n",
    "$$\n",
    "b = \\frac{vT_{spin}}{2\\pi}\n",
    "$$"
   ]
  },
  {
   "cell_type": "code",
   "execution_count": 3,
   "id": "5ffacb66-04a1-4999-bab0-1e7de44043ea",
   "metadata": {},
   "outputs": [],
   "source": [
    "v = 600 # wind speed km/s\n",
    "T = 25.67 # sun period in days\n",
    "L = 1/60 # lisa arm length in AU\n",
    "width = np.pi/12 #thickness of spiral in radians\n",
    "daytosecond = 86400 #seconds per day\n",
    "AUtokm = 149600000 #km per AU\n",
    "rotation = np.pi/2 #LISA pre-rotation around z axis\n",
    "\n",
    "bgdensity = 3\n",
    "spiraldensity = 5 #electron density of the background and the spiral per cm^-3\n",
    "\n",
    "b = v*(1/AUtokm)*T*daytosecond/(np.pi*2) #spiral b\n",
    "armres = 250 #resolution of each lisa arm\n",
    "\n"
   ]
  },
  {
   "cell_type": "markdown",
   "id": "cbb1ae58-c4d2-423f-90c4-b3512b3ab6c0",
   "metadata": {},
   "source": [
    "The conversion between cartesian and spherical can be seen below. The equations for $r$, $\\theta$, and $\\phi$ are:\n",
    "\n",
    "$$\n",
    "r = \\sqrt{x^2 + y^2 + z^2}\n",
    "$$\n",
    "\n",
    "$$\n",
    "\\theta = \\arccos{\\frac{z}{r}} = \\arccos{\\frac{z}{\\sqrt{x^2 + y^2 + z^2}}}\n",
    "$$\n",
    "\n",
    "$$\n",
    "\\phi = \\arccos{\\frac{x}{\\sqrt{x^2+y^2}}}\n",
    "$$"
   ]
  },
  {
   "cell_type": "code",
   "execution_count": 4,
   "id": "4d3df0ce-b3e8-4f22-878a-ce7afc055511",
   "metadata": {},
   "outputs": [],
   "source": [
    "def cartToSpheric(x,y,z): #theta and phi found from wikipedia\n",
    "    r = np.sqrt(x**2 + y**2 + z**2) #euclidian distance\n",
    "    \n",
    "    theta = np.arccos(z/r)\n",
    "    \n",
    "    phi = np.arccos(x/np.sqrt(x**2 + y**2)) * np.sign(y)\n",
    "    \n",
    "    return np.array([r, theta, phi])"
   ]
  },
  {
   "cell_type": "markdown",
   "id": "bf23f86e-7802-49bc-9581-7636fd1ed889",
   "metadata": {},
   "source": [
    "The rotation matrix defined below is taken directly from wikipedia - defined as:\n",
    "\n",
    "\n",
    "\n",
    "$$\n",
    "\\left [\n",
    "\\begin{matrix} \\cos{\\alpha}\\cos{\\beta}& \\cos{\\alpha}\\sin{\\beta}\\sin{\\gamma} - \\sin{\\alpha}\\cos{\\gamma}& \\cos{\\alpha}\\sin{\\beta}\\cos{\\gamma} + \\sin{\\alpha}\\sin{\\gamma} \\\\ \n",
    "\\sin{\\alpha}\\cos{\\beta}& \\sin{\\alpha}\\sin{\\beta}\\sin{\\gamma} + \\cos{\\alpha}\\cos{\\gamma}& \\sin{\\alpha}\\sin{\\beta}\\cos{\\gamma} - \\cos{\\alpha}\\sin{\\gamma} \\\\\n",
    "-\\sin{\\beta}& \\cos{\\beta}\\sin{\\gamma}& \\cos{\\beta}\\cos{\\gamma}\n",
    "\\end{matrix}\n",
    "\\right ]\n",
    "$$\n",
    "\n",
    "where the rotations are:\n",
    "$$\n",
    "R = R_z(\\alpha)R_y(\\beta)R_x(\\gamma)\n",
    "$$"
   ]
  },
  {
   "cell_type": "code",
   "execution_count": 5,
   "id": "1790c49e-0a0e-4f3d-bcf8-016f425a01db",
   "metadata": {},
   "outputs": [],
   "source": [
    "def eulerRot3D(RotObj, Xangle, Yangle, Zangle):\n",
    "    \n",
    "    sa = np.sin(Zangle) #sin and cos of x,y,z angles\n",
    "    ca = np.cos(Zangle)\n",
    "    sb = np.sin(Yangle)\n",
    "    cb = np.cos(Yangle)\n",
    "    sc = np.sin(Xangle)\n",
    "    cc = np.cos(Xangle)\n",
    "    \n",
    "    rotmat = np.array([[ca*cb, ca*sb*sc - sa*cc, ca*sb*cc + sa*sc], [sa*cb, sa*sb*sc + ca*cc, sa*sb*cc - ca*sc], [-sb, cb*sc, cb*cc]])\n",
    "    \n",
    "    return np.matmul(rotmat, RotObj)\n",
    "    \n",
    "    "
   ]
  },
  {
   "cell_type": "markdown",
   "id": "4540ea0e-8c5d-477e-bc84-c0e1171a964e",
   "metadata": {},
   "source": [
    "The average density over the arm length is calculated below. It takes the densities per $cm^{-3}$ at different points on the laser (based on the laser resolution), and outputs the average density per $cm^{-3}$ over the whole laser. The laser can be assumed to have an area of 1 $cm^2$, meaning that the line integral of the electron count over the laser is just the average density in $cm^{-3}$ (as opposed to $m^{-3}$) times the laser length."
   ]
  },
  {
   "cell_type": "code",
   "execution_count": 21,
   "id": "25069359-906f-4122-ada8-3680e4492552",
   "metadata": {},
   "outputs": [],
   "source": [
    "def avgDens(armlen, armrot, armres, armidx, orbitang, spiralb, spiraldens, bgdens):\n",
    "    \n",
    "    \n",
    "    start = np.array([armlen/np.sqrt(3) * np.cos(armrot + (armidx)*2*np.pi/3), armlen/np.sqrt(3) * np.sin(armrot + (armidx)*2*np.pi/3), 0]) #defining start and end coordinates of the arm\n",
    "    end = np.array([armlen/np.sqrt(3) * np.cos(armrot + (armidx+1)*2*np.pi/3), armlen/np.sqrt(3) * np.sin(armrot + (armidx+1)*2*np.pi/3), 0])\n",
    "    \n",
    "    pos = np.array([start, end])\n",
    "    pos = (pos + np.array([0,1,0])).T #offsetting points by 1au in the y direction\n",
    "    pos = eulerRot3D(pos, 0, 0, orbitang) #rotating points around an orbit by the specified 'orbitang' angle\n",
    "    \n",
    "    X = np.linspace(pos[0,0], pos[0,1], armres) #subdividing laser arm to the specified resolution\n",
    "    Y = np.linspace(pos[1,0], pos[1,1], armres)\n",
    "    Z = np.linspace(pos[2,0], pos[2,1], armres)\n",
    "    \n",
    "    sphericoords = cartToSpheric(X,Y,Z)\n",
    "    \n",
    "    r = sphericoords[0] #below is the math worked out in the math pdf.\n",
    "    phi = sphericoords[2]\n",
    "    \n",
    "    spiralphi = r/spiralb #finding the phi angle of the spiral at the point's distance from 0\n",
    "    \n",
    "\n",
    "    densvect = np.where((phi > spiralphi % (2*np.pi)) & (phi < (spiralphi + width) % (2*np.pi)), spiraldens, bgdens) #checking between phi and phi+width. If true, multiply by higher density. Otherwise, by lower density.\n",
    "    avgdens = np.sum(densvect)/armres #average over arm\n",
    "    #not multiplying by L because it gets cancelled out later\n",
    "    return avgdens"
   ]
  },
  {
   "cell_type": "markdown",
   "id": "c3086262-ac7e-4033-8f3c-85f68c0d9c63",
   "metadata": {},
   "source": [
    "This part gives the average density for each arm, over multiple angles. The angles are related to the time by a simple conversion - to go from angle to time, divide by $2\\pi$ (to normalize), then multiply by the orbital period (25.67 days in this case). This will give the position of the spacecraft as a function of time. By default, the input for rotation is in radians, and needs to be converted to time before inputting into the `avgDens` function."
   ]
  },
  {
   "cell_type": "code",
   "execution_count": 23,
   "id": "abfb139e-2745-4991-a406-cbb36231c256",
   "metadata": {},
   "outputs": [
    {
     "data": {
      "image/png": "[encoded data removed]",
      "text/plain": [
       "<Figure size 640x480 with 1 Axes>"
      ]
     },
     "metadata": {},
     "output_type": "display_data"
    }
   ],
   "source": [
    "\n",
    "time = np.linspace(0.901*T,0.906*T, 200) #set time to evaluate densities\n",
    "angles = time * 2*np.pi/T #convert to angle\n",
    "\n",
    "\n",
    "\n",
    "for i in range(3): #for each arm\n",
    "    avgdens = []\n",
    "    \n",
    "    for j in angles: #for each angle\n",
    "        avgdens.append(avgDens(L, rotation, armres, i, j, b, spiraldensity, bgdensity))\n",
    "    \n",
    "    \n",
    "    \n",
    "    py.scatter(time*24*60, avgdens, s=4, label='arm '+str(i+1)) #for each arm, plot for all angles\n",
    "py.title('Strain amplitude as a function of time')\n",
    "py.xlabel('time (minutes)')#NOTE change to minutes\n",
    "py.ylabel('strain (in increments of $\\\\frac{e^2\\lambda^2}{8\\pi^2c^2\\epsilon_0m_e}$)') #labelling output graph\n",
    "py.legend()\n",
    "py.show()\n",
    "    "
   ]
  },
  {
   "cell_type": "markdown",
   "id": "a4926dd5-64e7-4375-a6a1-b6700cfe0960",
   "metadata": {},
   "source": [
    "Strain is represented as:\n",
    "\n",
    "$$\n",
    "h(t) = \\frac{\\Delta L}{L}\n",
    "$$\n",
    "\n",
    "where \n",
    "\n",
    "$$\n",
    "\\Delta L \\propto \\Delta \\eta\n",
    "$$\n",
    "$\\eta$ being the refractive index of the medium. It can be represented as such:\n",
    "\n",
    "$$\n",
    "\\eta = \\sqrt{1-\\frac{\\omega_p^2}{\\omega^2}} \\approx 1-\\frac{1}{2}\\frac{\\omega_p^2}{\\omega^2}\n",
    "$$\n",
    "$$\n",
    "|\\Delta \\eta| \\approx \\frac{1}{2}\\frac{\\omega_p^2}{\\omega^2} = \\frac{1}{2} \\frac{n_ee^2}{\\epsilon_0m_e\\omega^2}\n",
    "$$\n",
    "\n",
    "Where $n_e$ is the electron number density, and $\\omega$ is the laser's angular frequency. \n",
    "$$\n",
    "\\omega = 2\\pi f = \\frac{2 \\pi c}{\\lambda}\n",
    "$$\n",
    "replacing this back yields:\n",
    "\n",
    "$$\n",
    "\\Delta \\eta = \\frac{e^2\\lambda^2}{8\\pi^2c^2\\epsilon_0m_e} n_e\n",
    "$$\n",
    "\n",
    "\n",
    "optical path length:\n",
    "\n",
    "$$\n",
    "L_{opt} = \\int_0^L \\eta ds\n",
    "$$\n",
    "\n",
    "$$\n",
    "L_{opt} - L = L + \\Delta L - L = \\Delta L\n",
    "$$\n",
    "$$\n",
    "\\Delta L = \\int_0^L \\eta ds - \\int_0^L 1 ds = \\int_0^L 1 + \\Delta \\eta ds - \\int_0^L 1 ds = \\int_0^L \\Delta \\eta ds\n",
    "$$\n",
    "$$\n",
    "\\int_0^L \\Delta \\eta ds = \\int_0^L \\frac{e^2\\lambda^2}{8\\pi^2c^2\\epsilon_0m_e} n_e ds = \\frac{e^2\\lambda^2}{8\\pi^2c^2\\epsilon_0m_e} \\int_0^L n_e ds = \\frac{e^2\\lambda^2}{8\\pi^2c^2\\epsilon_0m_e} n_{average}L\n",
    "$$\n",
    "\n",
    "$$\n",
    "strain = h(t) = \\frac{\\Delta L}{L} = \\frac{e^2\\lambda^2}{8\\pi^2c^2\\epsilon_0m_e} n_{average}\n",
    "$$\n",
    "\n",
    "Or equivalently:\n",
    "\n",
    "$$\n",
    "h(t) = K n_{average}\n",
    "$$\n",
    "where\n",
    "\n",
    "$$\n",
    "K = \\frac{e^2\\lambda^2}{8\\pi^2c^2\\epsilon_0m_e}\n",
    "$$\n",
    "self note : careful of units - $n_{average}$ is in $cm^{-3}$, which means $\\epsilon_0$ has to be converted."
   ]
  },
  {
   "cell_type": "markdown",
   "id": "5b43dc68-7617-4a48-a03a-bb21665cab2f",
   "metadata": {},
   "source": [
    "eval const (note, all SI units):\n",
    "\n",
    "$$\n",
    "e = 1.602*10^{-19}\\\\\n",
    "\\lambda = 1.064*10^{-6}\\\\\n",
    "c = 2.998*10^8\\\\\n",
    "\\epsilon_0 = 8.854*10^{-12}\\\\\n",
    "m_e =9.109*10^{-31} \\\\\n",
    "$$\n",
    "\n",
    "assuming $n_{average}$ is roughly 5 electrons/$cm^{-3}$\n",
    "$$\n",
    "K = 5.08 * 10^{-28}\\\\\n",
    "h = K*n_{average} = 5.08 * 10^{-28} * 5*10^6 \\approx 10^{-21}\n",
    "$$"
   ]
  },
  {
   "cell_type": "code",
   "execution_count": 9,
   "id": "8347e935-7d69-4b78-a46d-fd33c5d78367",
   "metadata": {},
   "outputs": [
    {
     "name": "stdout",
     "output_type": "stream",
     "text": [
      "5.0762741694595954e-28\n"
     ]
    }
   ],
   "source": [
    "e = 1.602E-19\n",
    "lam = 1.064E-6\n",
    "c = 2.998E8\n",
    "eps0 = 8.854E-12\n",
    "me =9.109E-31\n",
    "\n",
    "K = (e**2 * lam**2) / (8 * np.pi**2 * c**2 * eps0 * me)\n",
    "print(K) #note, SI units - n_average would be 1 000 000x larger, hence strain would be 6 orders of magnitude bigger (ie. 10^-22)"
   ]
  },
  {
   "cell_type": "code",
   "execution_count": null,
   "id": "71b65870-7724-4431-ae61-887f5d840688",
   "metadata": {},
   "outputs": [],
   "source": []
  }
 ],
 "metadata": {
  "kernelspec": {
   "display_name": "Python 3 (ipykernel)",
   "language": "python",
   "name": "python3"
  },
  "language_info": {
   "codemirror_mode": {
    "name": "ipython",
    "version": 3
   },
   "file_extension": ".py",
   "mimetype": "text/x-python",
   "name": "python",
   "nbconvert_exporter": "python",
   "pygments_lexer": "ipython3",
   "version": "3.10.9"
  }
 },
 "nbformat": 4,
 "nbformat_minor": 5
}
